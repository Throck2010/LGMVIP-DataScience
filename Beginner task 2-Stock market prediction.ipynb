{
 "cells": [
  {
   "cell_type": "markdown",
   "id": "3c0b9fb4",
   "metadata": {},
   "source": [
    "# LGM-VIP DATASCIENCE INTERNSHIP "
   ]
  },
  {
   "cell_type": "markdown",
   "id": "d637a5cd",
   "metadata": {},
   "source": [
    "## BEGINNER TASK 2- \n",
    "## STOCK MARKET PREDICTION AND FORECASTING USING STACKED LSTM"
   ]
  },
  {
   "cell_type": "markdown",
   "id": "0465eb63",
   "metadata": {},
   "source": [
    "###  Done by Thiru Kumaran T R\n",
    "### IDE- Jupyter Notebook"
   ]
  },
  {
   "cell_type": "code",
   "execution_count": null,
   "id": "4f488b9f",
   "metadata": {},
   "outputs": [],
   "source": []
  },
  {
   "cell_type": "code",
   "execution_count": 2,
   "id": "f49f44fc",
   "metadata": {},
   "outputs": [
    {
     "name": "stdout",
     "output_type": "stream",
     "text": [
      "Requirement already satisfied: tensorflow in c:\\users\\thiru\\anaconda3\\lib\\site-packages (2.7.0)\n",
      "Requirement already satisfied: wheel<1.0,>=0.32.0 in c:\\users\\thiru\\anaconda3\\lib\\site-packages (from tensorflow) (0.37.0)\n",
      "Requirement already satisfied: tensorflow-estimator<2.8,~=2.7.0rc0 in c:\\users\\thiru\\anaconda3\\lib\\site-packages (from tensorflow) (2.7.0)\n",
      "Requirement already satisfied: typing-extensions>=3.6.6 in c:\\users\\thiru\\anaconda3\\lib\\site-packages (from tensorflow) (3.10.0.2)\n",
      "Requirement already satisfied: numpy>=1.14.5 in c:\\users\\thiru\\anaconda3\\lib\\site-packages (from tensorflow) (1.20.3)\n",
      "Requirement already satisfied: flatbuffers<3.0,>=1.12 in c:\\users\\thiru\\anaconda3\\lib\\site-packages (from tensorflow) (2.0)\n",
      "Requirement already satisfied: astunparse>=1.6.0 in c:\\users\\thiru\\anaconda3\\lib\\site-packages (from tensorflow) (1.6.3)\n",
      "Requirement already satisfied: termcolor>=1.1.0 in c:\\users\\thiru\\anaconda3\\lib\\site-packages (from tensorflow) (1.1.0)\n",
      "Requirement already satisfied: absl-py>=0.4.0 in c:\\users\\thiru\\anaconda3\\lib\\site-packages (from tensorflow) (1.0.0)\n",
      "Requirement already satisfied: opt-einsum>=2.3.2 in c:\\users\\thiru\\anaconda3\\lib\\site-packages (from tensorflow) (3.3.0)\n",
      "Requirement already satisfied: six>=1.12.0 in c:\\users\\thiru\\anaconda3\\lib\\site-packages (from tensorflow) (1.16.0)\n",
      "Requirement already satisfied: gast<0.5.0,>=0.2.1 in c:\\users\\thiru\\anaconda3\\lib\\site-packages (from tensorflow) (0.4.0)\n",
      "Note: you may need to restart the kernel to use updated packages.Requirement already satisfied: tensorflow-io-gcs-filesystem>=0.21.0 in c:\\users\\thiru\\anaconda3\\lib\\site-packages (from tensorflow) (0.23.1)\n",
      "Requirement already satisfied: libclang>=9.0.1 in c:\\users\\thiru\\anaconda3\\lib\\site-packages (from tensorflow) (12.0.0)\n",
      "Requirement already satisfied: h5py>=2.9.0 in c:\\users\\thiru\\anaconda3\\lib\\site-packages (from tensorflow) (3.2.1)\n",
      "Requirement already satisfied: protobuf>=3.9.2 in c:\\users\\thiru\\anaconda3\\lib\\site-packages (from tensorflow) (3.19.3)\n",
      "Requirement already satisfied: grpcio<2.0,>=1.24.3 in c:\\users\\thiru\\anaconda3\\lib\\site-packages (from tensorflow) (1.43.0)\n",
      "Requirement already satisfied: google-pasta>=0.1.1 in c:\\users\\thiru\\anaconda3\\lib\\site-packages (from tensorflow) (0.2.0)\n",
      "Requirement already satisfied: keras-preprocessing>=1.1.1 in c:\\users\\thiru\\anaconda3\\lib\\site-packages (from tensorflow) (1.1.2)\n",
      "Requirement already satisfied: tensorboard~=2.6 in c:\\users\\thiru\\anaconda3\\lib\\site-packages (from tensorflow) (2.7.0)\n",
      "Requirement already satisfied: keras<2.8,>=2.7.0rc0 in c:\\users\\thiru\\anaconda3\\lib\\site-packages (from tensorflow) (2.7.0)\n",
      "Requirement already satisfied: wrapt>=1.11.0 in c:\\users\\thiru\\anaconda3\\lib\\site-packages (from tensorflow) (1.12.1)\n",
      "Requirement already satisfied: markdown>=2.6.8 in c:\\users\\thiru\\anaconda3\\lib\\site-packages (from tensorboard~=2.6->tensorflow) (3.3.6)\n",
      "\n",
      "Requirement already satisfied: tensorboard-data-server<0.7.0,>=0.6.0 in c:\\users\\thiru\\anaconda3\\lib\\site-packages (from tensorboard~=2.6->tensorflow) (0.6.1)\n",
      "Requirement already satisfied: tensorboard-plugin-wit>=1.6.0 in c:\\users\\thiru\\anaconda3\\lib\\site-packages (from tensorboard~=2.6->tensorflow) (1.8.1)\n",
      "Requirement already satisfied: google-auth-oauthlib<0.5,>=0.4.1 in c:\\users\\thiru\\anaconda3\\lib\\site-packages (from tensorboard~=2.6->tensorflow) (0.4.6)\n",
      "Requirement already satisfied: google-auth<3,>=1.6.3 in c:\\users\\thiru\\anaconda3\\lib\\site-packages (from tensorboard~=2.6->tensorflow) (2.3.3)\n",
      "Requirement already satisfied: requests<3,>=2.21.0 in c:\\users\\thiru\\anaconda3\\lib\\site-packages (from tensorboard~=2.6->tensorflow) (2.26.0)\n",
      "Requirement already satisfied: setuptools>=41.0.0 in c:\\users\\thiru\\anaconda3\\lib\\site-packages (from tensorboard~=2.6->tensorflow) (58.0.4)\n",
      "Requirement already satisfied: werkzeug>=0.11.15 in c:\\users\\thiru\\anaconda3\\lib\\site-packages (from tensorboard~=2.6->tensorflow) (2.0.2)\n",
      "Requirement already satisfied: cachetools<5.0,>=2.0.0 in c:\\users\\thiru\\anaconda3\\lib\\site-packages (from google-auth<3,>=1.6.3->tensorboard~=2.6->tensorflow) (4.2.4)\n",
      "Requirement already satisfied: rsa<5,>=3.1.4 in c:\\users\\thiru\\anaconda3\\lib\\site-packages (from google-auth<3,>=1.6.3->tensorboard~=2.6->tensorflow) (4.8)\n",
      "Requirement already satisfied: pyasn1-modules>=0.2.1 in c:\\users\\thiru\\anaconda3\\lib\\site-packages (from google-auth<3,>=1.6.3->tensorboard~=2.6->tensorflow) (0.2.8)\n",
      "Requirement already satisfied: requests-oauthlib>=0.7.0 in c:\\users\\thiru\\anaconda3\\lib\\site-packages (from google-auth-oauthlib<0.5,>=0.4.1->tensorboard~=2.6->tensorflow) (1.3.0)\n",
      "Requirement already satisfied: importlib-metadata>=4.4 in c:\\users\\thiru\\anaconda3\\lib\\site-packages (from markdown>=2.6.8->tensorboard~=2.6->tensorflow) (4.8.1)\n",
      "Requirement already satisfied: zipp>=0.5 in c:\\users\\thiru\\anaconda3\\lib\\site-packages (from importlib-metadata>=4.4->markdown>=2.6.8->tensorboard~=2.6->tensorflow) (3.6.0)\n",
      "Requirement already satisfied: pyasn1<0.5.0,>=0.4.6 in c:\\users\\thiru\\anaconda3\\lib\\site-packages (from pyasn1-modules>=0.2.1->google-auth<3,>=1.6.3->tensorboard~=2.6->tensorflow) (0.4.8)\n",
      "Requirement already satisfied: idna<4,>=2.5 in c:\\users\\thiru\\anaconda3\\lib\\site-packages (from requests<3,>=2.21.0->tensorboard~=2.6->tensorflow) (3.2)\n",
      "Requirement already satisfied: certifi>=2017.4.17 in c:\\users\\thiru\\anaconda3\\lib\\site-packages (from requests<3,>=2.21.0->tensorboard~=2.6->tensorflow) (2021.10.8)\n",
      "Requirement already satisfied: urllib3<1.27,>=1.21.1 in c:\\users\\thiru\\anaconda3\\lib\\site-packages (from requests<3,>=2.21.0->tensorboard~=2.6->tensorflow) (1.26.7)\n",
      "Requirement already satisfied: charset-normalizer~=2.0.0 in c:\\users\\thiru\\anaconda3\\lib\\site-packages (from requests<3,>=2.21.0->tensorboard~=2.6->tensorflow) (2.0.4)\n",
      "Requirement already satisfied: oauthlib>=3.0.0 in c:\\users\\thiru\\anaconda3\\lib\\site-packages (from requests-oauthlib>=0.7.0->google-auth-oauthlib<0.5,>=0.4.1->tensorboard~=2.6->tensorflow) (3.1.1)\n"
     ]
    }
   ],
   "source": [
    "pip install tensorflow"
   ]
  },
  {
   "cell_type": "markdown",
   "id": "ec379331",
   "metadata": {},
   "source": [
    "## IMPORTING LIBRARIES"
   ]
  },
  {
   "cell_type": "code",
   "execution_count": 3,
   "id": "a55cc4b1",
   "metadata": {},
   "outputs": [],
   "source": [
    "import math\n",
    "import numpy as np\n",
    "import pandas as pd\n",
    "import seaborn as sb\n",
    "import matplotlib.pyplot as plt\n",
    "from sklearn.preprocessing import MinMaxScaler\n",
    "from tensorflow.python.keras.models import Sequential\n",
    "from tensorflow.python.keras.layers import Dense\n",
    "from tensorflow.python.keras.layers import LSTM\n",
    "from sklearn.metrics import mean_squared_error\n"
   ]
  },
  {
   "cell_type": "markdown",
   "id": "f36bb111",
   "metadata": {},
   "source": [
    "## LOADING DATASET"
   ]
  },
  {
   "cell_type": "code",
   "execution_count": 4,
   "id": "50f95629",
   "metadata": {},
   "outputs": [],
   "source": [
    "d =pd.read_csv(\"https://raw.githubusercontent.com/mwitiderrick/stockprice/master/NSE-TATAGLOBAL.csv\")"
   ]
  },
  {
   "cell_type": "code",
   "execution_count": 5,
   "id": "6f05b38b",
   "metadata": {},
   "outputs": [
    {
     "data": {
      "text/html": [
       "<div>\n",
       "<style scoped>\n",
       "    .dataframe tbody tr th:only-of-type {\n",
       "        vertical-align: middle;\n",
       "    }\n",
       "\n",
       "    .dataframe tbody tr th {\n",
       "        vertical-align: top;\n",
       "    }\n",
       "\n",
       "    .dataframe thead th {\n",
       "        text-align: right;\n",
       "    }\n",
       "</style>\n",
       "<table border=\"1\" class=\"dataframe\">\n",
       "  <thead>\n",
       "    <tr style=\"text-align: right;\">\n",
       "      <th></th>\n",
       "      <th>Date</th>\n",
       "      <th>Open</th>\n",
       "      <th>High</th>\n",
       "      <th>Low</th>\n",
       "      <th>Last</th>\n",
       "      <th>Close</th>\n",
       "      <th>Total Trade Quantity</th>\n",
       "      <th>Turnover (Lacs)</th>\n",
       "    </tr>\n",
       "  </thead>\n",
       "  <tbody>\n",
       "    <tr>\n",
       "      <th>0</th>\n",
       "      <td>2018-09-28</td>\n",
       "      <td>234.05</td>\n",
       "      <td>235.95</td>\n",
       "      <td>230.20</td>\n",
       "      <td>233.50</td>\n",
       "      <td>233.75</td>\n",
       "      <td>3069914</td>\n",
       "      <td>7162.35</td>\n",
       "    </tr>\n",
       "    <tr>\n",
       "      <th>1</th>\n",
       "      <td>2018-09-27</td>\n",
       "      <td>234.55</td>\n",
       "      <td>236.80</td>\n",
       "      <td>231.10</td>\n",
       "      <td>233.80</td>\n",
       "      <td>233.25</td>\n",
       "      <td>5082859</td>\n",
       "      <td>11859.95</td>\n",
       "    </tr>\n",
       "    <tr>\n",
       "      <th>2</th>\n",
       "      <td>2018-09-26</td>\n",
       "      <td>240.00</td>\n",
       "      <td>240.00</td>\n",
       "      <td>232.50</td>\n",
       "      <td>235.00</td>\n",
       "      <td>234.25</td>\n",
       "      <td>2240909</td>\n",
       "      <td>5248.60</td>\n",
       "    </tr>\n",
       "    <tr>\n",
       "      <th>3</th>\n",
       "      <td>2018-09-25</td>\n",
       "      <td>233.30</td>\n",
       "      <td>236.75</td>\n",
       "      <td>232.00</td>\n",
       "      <td>236.25</td>\n",
       "      <td>236.10</td>\n",
       "      <td>2349368</td>\n",
       "      <td>5503.90</td>\n",
       "    </tr>\n",
       "    <tr>\n",
       "      <th>4</th>\n",
       "      <td>2018-09-24</td>\n",
       "      <td>233.55</td>\n",
       "      <td>239.20</td>\n",
       "      <td>230.75</td>\n",
       "      <td>234.00</td>\n",
       "      <td>233.30</td>\n",
       "      <td>3423509</td>\n",
       "      <td>7999.55</td>\n",
       "    </tr>\n",
       "  </tbody>\n",
       "</table>\n",
       "</div>"
      ],
      "text/plain": [
       "         Date    Open    High     Low    Last   Close  Total Trade Quantity  \\\n",
       "0  2018-09-28  234.05  235.95  230.20  233.50  233.75               3069914   \n",
       "1  2018-09-27  234.55  236.80  231.10  233.80  233.25               5082859   \n",
       "2  2018-09-26  240.00  240.00  232.50  235.00  234.25               2240909   \n",
       "3  2018-09-25  233.30  236.75  232.00  236.25  236.10               2349368   \n",
       "4  2018-09-24  233.55  239.20  230.75  234.00  233.30               3423509   \n",
       "\n",
       "   Turnover (Lacs)  \n",
       "0          7162.35  \n",
       "1         11859.95  \n",
       "2          5248.60  \n",
       "3          5503.90  \n",
       "4          7999.55  "
      ]
     },
     "execution_count": 5,
     "metadata": {},
     "output_type": "execute_result"
    }
   ],
   "source": [
    "d.head()"
   ]
  },
  {
   "cell_type": "code",
   "execution_count": 6,
   "id": "bfc8f9af",
   "metadata": {},
   "outputs": [
    {
     "data": {
      "text/html": [
       "<div>\n",
       "<style scoped>\n",
       "    .dataframe tbody tr th:only-of-type {\n",
       "        vertical-align: middle;\n",
       "    }\n",
       "\n",
       "    .dataframe tbody tr th {\n",
       "        vertical-align: top;\n",
       "    }\n",
       "\n",
       "    .dataframe thead th {\n",
       "        text-align: right;\n",
       "    }\n",
       "</style>\n",
       "<table border=\"1\" class=\"dataframe\">\n",
       "  <thead>\n",
       "    <tr style=\"text-align: right;\">\n",
       "      <th></th>\n",
       "      <th>Date</th>\n",
       "      <th>Open</th>\n",
       "      <th>High</th>\n",
       "      <th>Low</th>\n",
       "      <th>Last</th>\n",
       "      <th>Close</th>\n",
       "      <th>Total Trade Quantity</th>\n",
       "      <th>Turnover (Lacs)</th>\n",
       "    </tr>\n",
       "  </thead>\n",
       "  <tbody>\n",
       "    <tr>\n",
       "      <th>2030</th>\n",
       "      <td>2010-07-27</td>\n",
       "      <td>117.6</td>\n",
       "      <td>119.50</td>\n",
       "      <td>112.00</td>\n",
       "      <td>118.80</td>\n",
       "      <td>118.65</td>\n",
       "      <td>586100</td>\n",
       "      <td>694.98</td>\n",
       "    </tr>\n",
       "    <tr>\n",
       "      <th>2031</th>\n",
       "      <td>2010-07-26</td>\n",
       "      <td>120.1</td>\n",
       "      <td>121.00</td>\n",
       "      <td>117.10</td>\n",
       "      <td>117.10</td>\n",
       "      <td>117.60</td>\n",
       "      <td>658440</td>\n",
       "      <td>780.01</td>\n",
       "    </tr>\n",
       "    <tr>\n",
       "      <th>2032</th>\n",
       "      <td>2010-07-23</td>\n",
       "      <td>121.8</td>\n",
       "      <td>121.95</td>\n",
       "      <td>120.25</td>\n",
       "      <td>120.35</td>\n",
       "      <td>120.65</td>\n",
       "      <td>281312</td>\n",
       "      <td>340.31</td>\n",
       "    </tr>\n",
       "    <tr>\n",
       "      <th>2033</th>\n",
       "      <td>2010-07-22</td>\n",
       "      <td>120.3</td>\n",
       "      <td>122.00</td>\n",
       "      <td>120.25</td>\n",
       "      <td>120.75</td>\n",
       "      <td>120.90</td>\n",
       "      <td>293312</td>\n",
       "      <td>355.17</td>\n",
       "    </tr>\n",
       "    <tr>\n",
       "      <th>2034</th>\n",
       "      <td>2010-07-21</td>\n",
       "      <td>122.1</td>\n",
       "      <td>123.00</td>\n",
       "      <td>121.05</td>\n",
       "      <td>121.10</td>\n",
       "      <td>121.55</td>\n",
       "      <td>658666</td>\n",
       "      <td>803.56</td>\n",
       "    </tr>\n",
       "  </tbody>\n",
       "</table>\n",
       "</div>"
      ],
      "text/plain": [
       "            Date   Open    High     Low    Last   Close  Total Trade Quantity  \\\n",
       "2030  2010-07-27  117.6  119.50  112.00  118.80  118.65                586100   \n",
       "2031  2010-07-26  120.1  121.00  117.10  117.10  117.60                658440   \n",
       "2032  2010-07-23  121.8  121.95  120.25  120.35  120.65                281312   \n",
       "2033  2010-07-22  120.3  122.00  120.25  120.75  120.90                293312   \n",
       "2034  2010-07-21  122.1  123.00  121.05  121.10  121.55                658666   \n",
       "\n",
       "      Turnover (Lacs)  \n",
       "2030           694.98  \n",
       "2031           780.01  \n",
       "2032           340.31  \n",
       "2033           355.17  \n",
       "2034           803.56  "
      ]
     },
     "execution_count": 6,
     "metadata": {},
     "output_type": "execute_result"
    }
   ],
   "source": [
    "d.tail()"
   ]
  },
  {
   "cell_type": "code",
   "execution_count": 7,
   "id": "19dc59fe",
   "metadata": {},
   "outputs": [
    {
     "data": {
      "text/html": [
       "<div>\n",
       "<style scoped>\n",
       "    .dataframe tbody tr th:only-of-type {\n",
       "        vertical-align: middle;\n",
       "    }\n",
       "\n",
       "    .dataframe tbody tr th {\n",
       "        vertical-align: top;\n",
       "    }\n",
       "\n",
       "    .dataframe thead th {\n",
       "        text-align: right;\n",
       "    }\n",
       "</style>\n",
       "<table border=\"1\" class=\"dataframe\">\n",
       "  <thead>\n",
       "    <tr style=\"text-align: right;\">\n",
       "      <th></th>\n",
       "      <th>Date</th>\n",
       "      <th>Open</th>\n",
       "      <th>High</th>\n",
       "      <th>Low</th>\n",
       "      <th>Last</th>\n",
       "      <th>Close</th>\n",
       "      <th>Total Trade Quantity</th>\n",
       "      <th>Turnover (Lacs)</th>\n",
       "    </tr>\n",
       "  </thead>\n",
       "  <tbody>\n",
       "    <tr>\n",
       "      <th>0</th>\n",
       "      <td>False</td>\n",
       "      <td>False</td>\n",
       "      <td>False</td>\n",
       "      <td>False</td>\n",
       "      <td>False</td>\n",
       "      <td>False</td>\n",
       "      <td>False</td>\n",
       "      <td>False</td>\n",
       "    </tr>\n",
       "    <tr>\n",
       "      <th>1</th>\n",
       "      <td>False</td>\n",
       "      <td>False</td>\n",
       "      <td>False</td>\n",
       "      <td>False</td>\n",
       "      <td>False</td>\n",
       "      <td>False</td>\n",
       "      <td>False</td>\n",
       "      <td>False</td>\n",
       "    </tr>\n",
       "    <tr>\n",
       "      <th>2</th>\n",
       "      <td>False</td>\n",
       "      <td>False</td>\n",
       "      <td>False</td>\n",
       "      <td>False</td>\n",
       "      <td>False</td>\n",
       "      <td>False</td>\n",
       "      <td>False</td>\n",
       "      <td>False</td>\n",
       "    </tr>\n",
       "    <tr>\n",
       "      <th>3</th>\n",
       "      <td>False</td>\n",
       "      <td>False</td>\n",
       "      <td>False</td>\n",
       "      <td>False</td>\n",
       "      <td>False</td>\n",
       "      <td>False</td>\n",
       "      <td>False</td>\n",
       "      <td>False</td>\n",
       "    </tr>\n",
       "    <tr>\n",
       "      <th>4</th>\n",
       "      <td>False</td>\n",
       "      <td>False</td>\n",
       "      <td>False</td>\n",
       "      <td>False</td>\n",
       "      <td>False</td>\n",
       "      <td>False</td>\n",
       "      <td>False</td>\n",
       "      <td>False</td>\n",
       "    </tr>\n",
       "    <tr>\n",
       "      <th>...</th>\n",
       "      <td>...</td>\n",
       "      <td>...</td>\n",
       "      <td>...</td>\n",
       "      <td>...</td>\n",
       "      <td>...</td>\n",
       "      <td>...</td>\n",
       "      <td>...</td>\n",
       "      <td>...</td>\n",
       "    </tr>\n",
       "    <tr>\n",
       "      <th>2030</th>\n",
       "      <td>False</td>\n",
       "      <td>False</td>\n",
       "      <td>False</td>\n",
       "      <td>False</td>\n",
       "      <td>False</td>\n",
       "      <td>False</td>\n",
       "      <td>False</td>\n",
       "      <td>False</td>\n",
       "    </tr>\n",
       "    <tr>\n",
       "      <th>2031</th>\n",
       "      <td>False</td>\n",
       "      <td>False</td>\n",
       "      <td>False</td>\n",
       "      <td>False</td>\n",
       "      <td>False</td>\n",
       "      <td>False</td>\n",
       "      <td>False</td>\n",
       "      <td>False</td>\n",
       "    </tr>\n",
       "    <tr>\n",
       "      <th>2032</th>\n",
       "      <td>False</td>\n",
       "      <td>False</td>\n",
       "      <td>False</td>\n",
       "      <td>False</td>\n",
       "      <td>False</td>\n",
       "      <td>False</td>\n",
       "      <td>False</td>\n",
       "      <td>False</td>\n",
       "    </tr>\n",
       "    <tr>\n",
       "      <th>2033</th>\n",
       "      <td>False</td>\n",
       "      <td>False</td>\n",
       "      <td>False</td>\n",
       "      <td>False</td>\n",
       "      <td>False</td>\n",
       "      <td>False</td>\n",
       "      <td>False</td>\n",
       "      <td>False</td>\n",
       "    </tr>\n",
       "    <tr>\n",
       "      <th>2034</th>\n",
       "      <td>False</td>\n",
       "      <td>False</td>\n",
       "      <td>False</td>\n",
       "      <td>False</td>\n",
       "      <td>False</td>\n",
       "      <td>False</td>\n",
       "      <td>False</td>\n",
       "      <td>False</td>\n",
       "    </tr>\n",
       "  </tbody>\n",
       "</table>\n",
       "<p>2035 rows × 8 columns</p>\n",
       "</div>"
      ],
      "text/plain": [
       "       Date   Open   High    Low   Last  Close  Total Trade Quantity  \\\n",
       "0     False  False  False  False  False  False                 False   \n",
       "1     False  False  False  False  False  False                 False   \n",
       "2     False  False  False  False  False  False                 False   \n",
       "3     False  False  False  False  False  False                 False   \n",
       "4     False  False  False  False  False  False                 False   \n",
       "...     ...    ...    ...    ...    ...    ...                   ...   \n",
       "2030  False  False  False  False  False  False                 False   \n",
       "2031  False  False  False  False  False  False                 False   \n",
       "2032  False  False  False  False  False  False                 False   \n",
       "2033  False  False  False  False  False  False                 False   \n",
       "2034  False  False  False  False  False  False                 False   \n",
       "\n",
       "      Turnover (Lacs)  \n",
       "0               False  \n",
       "1               False  \n",
       "2               False  \n",
       "3               False  \n",
       "4               False  \n",
       "...               ...  \n",
       "2030            False  \n",
       "2031            False  \n",
       "2032            False  \n",
       "2033            False  \n",
       "2034            False  \n",
       "\n",
       "[2035 rows x 8 columns]"
      ]
     },
     "execution_count": 7,
     "metadata": {},
     "output_type": "execute_result"
    }
   ],
   "source": [
    "d.isnull()"
   ]
  },
  {
   "cell_type": "code",
   "execution_count": 8,
   "id": "53e671eb",
   "metadata": {},
   "outputs": [
    {
     "data": {
      "text/html": [
       "<div>\n",
       "<style scoped>\n",
       "    .dataframe tbody tr th:only-of-type {\n",
       "        vertical-align: middle;\n",
       "    }\n",
       "\n",
       "    .dataframe tbody tr th {\n",
       "        vertical-align: top;\n",
       "    }\n",
       "\n",
       "    .dataframe thead th {\n",
       "        text-align: right;\n",
       "    }\n",
       "</style>\n",
       "<table border=\"1\" class=\"dataframe\">\n",
       "  <thead>\n",
       "    <tr style=\"text-align: right;\">\n",
       "      <th></th>\n",
       "      <th>Open</th>\n",
       "      <th>High</th>\n",
       "      <th>Low</th>\n",
       "      <th>Last</th>\n",
       "      <th>Close</th>\n",
       "      <th>Total Trade Quantity</th>\n",
       "      <th>Turnover (Lacs)</th>\n",
       "    </tr>\n",
       "  </thead>\n",
       "  <tbody>\n",
       "    <tr>\n",
       "      <th>count</th>\n",
       "      <td>2035.000000</td>\n",
       "      <td>2035.000000</td>\n",
       "      <td>2035.000000</td>\n",
       "      <td>2035.000000</td>\n",
       "      <td>2035.00000</td>\n",
       "      <td>2.035000e+03</td>\n",
       "      <td>2035.000000</td>\n",
       "    </tr>\n",
       "    <tr>\n",
       "      <th>mean</th>\n",
       "      <td>149.713735</td>\n",
       "      <td>151.992826</td>\n",
       "      <td>147.293931</td>\n",
       "      <td>149.474251</td>\n",
       "      <td>149.45027</td>\n",
       "      <td>2.335681e+06</td>\n",
       "      <td>3899.980565</td>\n",
       "    </tr>\n",
       "    <tr>\n",
       "      <th>std</th>\n",
       "      <td>48.664509</td>\n",
       "      <td>49.413109</td>\n",
       "      <td>47.931958</td>\n",
       "      <td>48.732570</td>\n",
       "      <td>48.71204</td>\n",
       "      <td>2.091778e+06</td>\n",
       "      <td>4570.767877</td>\n",
       "    </tr>\n",
       "    <tr>\n",
       "      <th>min</th>\n",
       "      <td>81.100000</td>\n",
       "      <td>82.800000</td>\n",
       "      <td>80.000000</td>\n",
       "      <td>81.000000</td>\n",
       "      <td>80.95000</td>\n",
       "      <td>3.961000e+04</td>\n",
       "      <td>37.040000</td>\n",
       "    </tr>\n",
       "    <tr>\n",
       "      <th>25%</th>\n",
       "      <td>120.025000</td>\n",
       "      <td>122.100000</td>\n",
       "      <td>118.300000</td>\n",
       "      <td>120.075000</td>\n",
       "      <td>120.05000</td>\n",
       "      <td>1.146444e+06</td>\n",
       "      <td>1427.460000</td>\n",
       "    </tr>\n",
       "    <tr>\n",
       "      <th>50%</th>\n",
       "      <td>141.500000</td>\n",
       "      <td>143.400000</td>\n",
       "      <td>139.600000</td>\n",
       "      <td>141.100000</td>\n",
       "      <td>141.25000</td>\n",
       "      <td>1.783456e+06</td>\n",
       "      <td>2512.030000</td>\n",
       "    </tr>\n",
       "    <tr>\n",
       "      <th>75%</th>\n",
       "      <td>157.175000</td>\n",
       "      <td>159.400000</td>\n",
       "      <td>155.150000</td>\n",
       "      <td>156.925000</td>\n",
       "      <td>156.90000</td>\n",
       "      <td>2.813594e+06</td>\n",
       "      <td>4539.015000</td>\n",
       "    </tr>\n",
       "    <tr>\n",
       "      <th>max</th>\n",
       "      <td>327.700000</td>\n",
       "      <td>328.750000</td>\n",
       "      <td>321.650000</td>\n",
       "      <td>325.950000</td>\n",
       "      <td>325.75000</td>\n",
       "      <td>2.919102e+07</td>\n",
       "      <td>55755.080000</td>\n",
       "    </tr>\n",
       "  </tbody>\n",
       "</table>\n",
       "</div>"
      ],
      "text/plain": [
       "              Open         High          Low         Last       Close  \\\n",
       "count  2035.000000  2035.000000  2035.000000  2035.000000  2035.00000   \n",
       "mean    149.713735   151.992826   147.293931   149.474251   149.45027   \n",
       "std      48.664509    49.413109    47.931958    48.732570    48.71204   \n",
       "min      81.100000    82.800000    80.000000    81.000000    80.95000   \n",
       "25%     120.025000   122.100000   118.300000   120.075000   120.05000   \n",
       "50%     141.500000   143.400000   139.600000   141.100000   141.25000   \n",
       "75%     157.175000   159.400000   155.150000   156.925000   156.90000   \n",
       "max     327.700000   328.750000   321.650000   325.950000   325.75000   \n",
       "\n",
       "       Total Trade Quantity  Turnover (Lacs)  \n",
       "count          2.035000e+03      2035.000000  \n",
       "mean           2.335681e+06      3899.980565  \n",
       "std            2.091778e+06      4570.767877  \n",
       "min            3.961000e+04        37.040000  \n",
       "25%            1.146444e+06      1427.460000  \n",
       "50%            1.783456e+06      2512.030000  \n",
       "75%            2.813594e+06      4539.015000  \n",
       "max            2.919102e+07     55755.080000  "
      ]
     },
     "execution_count": 8,
     "metadata": {},
     "output_type": "execute_result"
    }
   ],
   "source": [
    "d.describe()"
   ]
  },
  {
   "cell_type": "code",
   "execution_count": 9,
   "id": "35ff17e3",
   "metadata": {},
   "outputs": [
    {
     "name": "stdout",
     "output_type": "stream",
     "text": [
      "<class 'pandas.core.frame.DataFrame'>\n",
      "RangeIndex: 2035 entries, 0 to 2034\n",
      "Data columns (total 8 columns):\n",
      " #   Column                Non-Null Count  Dtype  \n",
      "---  ------                --------------  -----  \n",
      " 0   Date                  2035 non-null   object \n",
      " 1   Open                  2035 non-null   float64\n",
      " 2   High                  2035 non-null   float64\n",
      " 3   Low                   2035 non-null   float64\n",
      " 4   Last                  2035 non-null   float64\n",
      " 5   Close                 2035 non-null   float64\n",
      " 6   Total Trade Quantity  2035 non-null   int64  \n",
      " 7   Turnover (Lacs)       2035 non-null   float64\n",
      "dtypes: float64(6), int64(1), object(1)\n",
      "memory usage: 127.3+ KB\n"
     ]
    }
   ],
   "source": [
    "d.info()"
   ]
  },
  {
   "cell_type": "code",
   "execution_count": 10,
   "id": "d61e70c6",
   "metadata": {},
   "outputs": [
    {
     "data": {
      "text/plain": [
       "(2035, 8)"
      ]
     },
     "execution_count": 10,
     "metadata": {},
     "output_type": "execute_result"
    }
   ],
   "source": [
    "d.shape"
   ]
  },
  {
   "cell_type": "code",
   "execution_count": 11,
   "id": "b8d99605",
   "metadata": {},
   "outputs": [],
   "source": [
    "df = d.reset_index()['Close']"
   ]
  },
  {
   "cell_type": "code",
   "execution_count": 12,
   "id": "34fc3be9",
   "metadata": {},
   "outputs": [
    {
     "data": {
      "text/plain": [
       "0       233.75\n",
       "1       233.25\n",
       "2       234.25\n",
       "3       236.10\n",
       "4       233.30\n",
       "         ...  \n",
       "2030    118.65\n",
       "2031    117.60\n",
       "2032    120.65\n",
       "2033    120.90\n",
       "2034    121.55\n",
       "Name: Close, Length: 2035, dtype: float64"
      ]
     },
     "execution_count": 12,
     "metadata": {},
     "output_type": "execute_result"
    }
   ],
   "source": [
    "df"
   ]
  },
  {
   "cell_type": "code",
   "execution_count": 13,
   "id": "46d861a7",
   "metadata": {},
   "outputs": [
    {
     "data": {
      "text/plain": [
       "[<matplotlib.lines.Line2D at 0x167433b9a60>]"
      ]
     },
     "execution_count": 13,
     "metadata": {},
     "output_type": "execute_result"
    },
    {
     "data": {
      "image/png": "[encoded data removed]",
      "text/plain": [
       "<Figure size 432x288 with 1 Axes>"
      ]
     },
     "metadata": {
      "needs_background": "light"
     },
     "output_type": "display_data"
    }
   ],
   "source": [
    "plt.plot(df)"
   ]
  },
  {
   "cell_type": "code",
   "execution_count": 14,
   "id": "df14138f",
   "metadata": {},
   "outputs": [
    {
     "data": {
      "text/plain": [
       "array([[<AxesSubplot:title={'center':'Open'}>,\n",
       "        <AxesSubplot:title={'center':'High'}>,\n",
       "        <AxesSubplot:title={'center':'Low'}>],\n",
       "       [<AxesSubplot:title={'center':'Last'}>,\n",
       "        <AxesSubplot:title={'center':'Close'}>,\n",
       "        <AxesSubplot:title={'center':'Total Trade Quantity'}>],\n",
       "       [<AxesSubplot:title={'center':'Turnover (Lacs)'}>, <AxesSubplot:>,\n",
       "        <AxesSubplot:>]], dtype=object)"
      ]
     },
     "execution_count": 14,
     "metadata": {},
     "output_type": "execute_result"
    },
    {
     "data": {
      "image/png": "[encoded data removed]",
      "text/plain": [
       "<Figure size 648x648 with 9 Axes>"
      ]
     },
     "metadata": {
      "needs_background": "light"
     },
     "output_type": "display_data"
    }
   ],
   "source": [
    "d.hist(edgecolor = 'red',linewidth = 2,figsize=(9,9))"
   ]
  },
  {
   "cell_type": "markdown",
   "id": "12999249",
   "metadata": {},
   "source": [
    "## DATA SCALING "
   ]
  },
  {
   "cell_type": "code",
   "execution_count": 15,
   "id": "7236ef75",
   "metadata": {},
   "outputs": [],
   "source": [
    "scaler = MinMaxScaler(feature_range=(0,1))\n",
    "df=scaler.fit_transform(np.array(df).reshape(-1,1))"
   ]
  },
  {
   "cell_type": "code",
   "execution_count": 16,
   "id": "2a5cb25a",
   "metadata": {},
   "outputs": [
    {
     "data": {
      "text/plain": [
       "array([[0.62418301],\n",
       "       [0.62214052],\n",
       "       [0.62622549],\n",
       "       ...,\n",
       "       [0.1621732 ],\n",
       "       [0.16319444],\n",
       "       [0.16584967]])"
      ]
     },
     "execution_count": 16,
     "metadata": {},
     "output_type": "execute_result"
    }
   ],
   "source": [
    "df"
   ]
  },
  {
   "cell_type": "markdown",
   "id": "86a15d63",
   "metadata": {},
   "source": [
    "## DATA SPLITTING"
   ]
  },
  {
   "cell_type": "code",
   "execution_count": 17,
   "id": "37fa4a00",
   "metadata": {},
   "outputs": [],
   "source": [
    "training_size = int(len(df)*0.80)\n",
    "test_size=len(df) - training_size\n",
    "train_data,test_data = df[0:training_size,:],df[training_size:len(df),:1]"
   ]
  },
  {
   "cell_type": "code",
   "execution_count": 18,
   "id": "487a734c",
   "metadata": {},
   "outputs": [
    {
     "data": {
      "text/plain": [
       "(1628, 407)"
      ]
     },
     "execution_count": 18,
     "metadata": {},
     "output_type": "execute_result"
    }
   ],
   "source": [
    "training_size,test_size"
   ]
  },
  {
   "cell_type": "code",
   "execution_count": 19,
   "id": "0faa258a",
   "metadata": {},
   "outputs": [
    {
     "data": {
      "text/plain": [
       "array([[0.62418301],\n",
       "       [0.62214052],\n",
       "       [0.62622549],\n",
       "       ...,\n",
       "       [0.1435866 ],\n",
       "       [0.13419118],\n",
       "       [0.1431781 ]])"
      ]
     },
     "execution_count": 19,
     "metadata": {},
     "output_type": "execute_result"
    }
   ],
   "source": [
    "train_data"
   ]
  },
  {
   "cell_type": "code",
   "execution_count": 20,
   "id": "66a89277",
   "metadata": {},
   "outputs": [
    {
     "data": {
      "text/plain": [
       "array([[0.16115196],\n",
       "       [0.16176471],\n",
       "       [0.17320261],\n",
       "       [0.18218954],\n",
       "       [0.16237745],\n",
       "       [0.13112745],\n",
       "       [0.15931373],\n",
       "       [0.15951797],\n",
       "       [0.14808007],\n",
       "       [0.16278595],\n",
       "       [0.15625   ],\n",
       "       [0.16319444],\n",
       "       [0.16360294],\n",
       "       [0.16278595],\n",
       "       [0.16544118],\n",
       "       [0.15522876],\n",
       "       [0.17197712],\n",
       "       [0.1503268 ],\n",
       "       [0.13255719],\n",
       "       [0.14338235],\n",
       "       [0.15849673],\n",
       "       [0.1186683 ],\n",
       "       [0.11519608],\n",
       "       [0.10947712],\n",
       "       [0.0692402 ],\n",
       "       [0.06597222],\n",
       "       [0.05841503],\n",
       "       [0.05044935],\n",
       "       [0.04534314],\n",
       "       [0.04779412],\n",
       "       [0.05290033],\n",
       "       [0.04922386],\n",
       "       [0.06638072],\n",
       "       [0.07169118],\n",
       "       [0.05392157],\n",
       "       [0.04881536],\n",
       "       [0.04881536],\n",
       "       [0.05310458],\n",
       "       [0.04963235],\n",
       "       [0.05065359],\n",
       "       [0.05126634],\n",
       "       [0.04963235],\n",
       "       [0.05902778],\n",
       "       [0.05555556],\n",
       "       [0.04084967],\n",
       "       [0.03737745],\n",
       "       [0.03737745],\n",
       "       [0.02655229],\n",
       "       [0.02879902],\n",
       "       [0.0316585 ],\n",
       "       [0.0316585 ],\n",
       "       [0.03635621],\n",
       "       [0.02205882],\n",
       "       [0.01674837],\n",
       "       [0.01450163],\n",
       "       [0.02226307],\n",
       "       [0.03615196],\n",
       "       [0.02675654],\n",
       "       [0.03206699],\n",
       "       [0.02696078],\n",
       "       [0.03574346],\n",
       "       [0.03594771],\n",
       "       [0.04044118],\n",
       "       [0.03921569],\n",
       "       [0.04411765],\n",
       "       [0.02982026],\n",
       "       [0.0122549 ],\n",
       "       [0.01286765],\n",
       "       [0.01143791],\n",
       "       [0.00245098],\n",
       "       [0.0059232 ],\n",
       "       [0.        ],\n",
       "       [0.00714869],\n",
       "       [0.00428922],\n",
       "       [0.0067402 ],\n",
       "       [0.0063317 ],\n",
       "       [0.01123366],\n",
       "       [0.01960784],\n",
       "       [0.02757353],\n",
       "       [0.03002451],\n",
       "       [0.03349673],\n",
       "       [0.04003268],\n",
       "       [0.04084967],\n",
       "       [0.03982843],\n",
       "       [0.04166667],\n",
       "       [0.04370915],\n",
       "       [0.04758987],\n",
       "       [0.03594771],\n",
       "       [0.02839052],\n",
       "       [0.02410131],\n",
       "       [0.01715686],\n",
       "       [0.01531863],\n",
       "       [0.01756536],\n",
       "       [0.02696078],\n",
       "       [0.02696078],\n",
       "       [0.03819444],\n",
       "       [0.02839052],\n",
       "       [0.02369281],\n",
       "       [0.02920752],\n",
       "       [0.02328431],\n",
       "       [0.01919935],\n",
       "       [0.00653595],\n",
       "       [0.00061275],\n",
       "       [0.00796569],\n",
       "       [0.01245915],\n",
       "       [0.01981209],\n",
       "       [0.01940359],\n",
       "       [0.02246732],\n",
       "       [0.03125   ],\n",
       "       [0.02348856],\n",
       "       [0.0249183 ],\n",
       "       [0.02144608],\n",
       "       [0.04840686],\n",
       "       [0.04575163],\n",
       "       [0.03962418],\n",
       "       [0.03921569],\n",
       "       [0.04758987],\n",
       "       [0.04513889],\n",
       "       [0.04166667],\n",
       "       [0.04125817],\n",
       "       [0.05044935],\n",
       "       [0.05555556],\n",
       "       [0.05494281],\n",
       "       [0.05412582],\n",
       "       [0.0435049 ],\n",
       "       [0.04799837],\n",
       "       [0.05147059],\n",
       "       [0.05065359],\n",
       "       [0.03431373],\n",
       "       [0.04575163],\n",
       "       [0.04187092],\n",
       "       [0.04554739],\n",
       "       [0.03941993],\n",
       "       [0.02716503],\n",
       "       [0.03125   ],\n",
       "       [0.05882353],\n",
       "       [0.07148693],\n",
       "       [0.08721405],\n",
       "       [0.08986928],\n",
       "       [0.10498366],\n",
       "       [0.08905229],\n",
       "       [0.10355392],\n",
       "       [0.10375817],\n",
       "       [0.12275327],\n",
       "       [0.10906863],\n",
       "       [0.09660948],\n",
       "       [0.1064134 ],\n",
       "       [0.10457516],\n",
       "       [0.11049837],\n",
       "       [0.1127451 ],\n",
       "       [0.09803922],\n",
       "       [0.09987745],\n",
       "       [0.08925654],\n",
       "       [0.0747549 ],\n",
       "       [0.08169935],\n",
       "       [0.08925654],\n",
       "       [0.09068627],\n",
       "       [0.08129085],\n",
       "       [0.08823529],\n",
       "       [0.08455882],\n",
       "       [0.07945261],\n",
       "       [0.08374183],\n",
       "       [0.07781863],\n",
       "       [0.09824346],\n",
       "       [0.09089052],\n",
       "       [0.09007353],\n",
       "       [0.09558824],\n",
       "       [0.06862745],\n",
       "       [0.06372549],\n",
       "       [0.0494281 ],\n",
       "       [0.04799837],\n",
       "       [0.04534314],\n",
       "       [0.0443219 ],\n",
       "       [0.03941993],\n",
       "       [0.0379902 ],\n",
       "       [0.04656863],\n",
       "       [0.05085784],\n",
       "       [0.07209967],\n",
       "       [0.06535948],\n",
       "       [0.07230392],\n",
       "       [0.07802288],\n",
       "       [0.07741013],\n",
       "       [0.06086601],\n",
       "       [0.06413399],\n",
       "       [0.07046569],\n",
       "       [0.05412582],\n",
       "       [0.0498366 ],\n",
       "       [0.05167484],\n",
       "       [0.05330882],\n",
       "       [0.0435049 ],\n",
       "       [0.02634804],\n",
       "       [0.02410131],\n",
       "       [0.02961601],\n",
       "       [0.01960784],\n",
       "       [0.02961601],\n",
       "       [0.04575163],\n",
       "       [0.05923203],\n",
       "       [0.06678922],\n",
       "       [0.06229575],\n",
       "       [0.06311275],\n",
       "       [0.0629085 ],\n",
       "       [0.06658497],\n",
       "       [0.07434641],\n",
       "       [0.06944444],\n",
       "       [0.08088235],\n",
       "       [0.07700163],\n",
       "       [0.0684232 ],\n",
       "       [0.06781046],\n",
       "       [0.0629085 ],\n",
       "       [0.0692402 ],\n",
       "       [0.0755719 ],\n",
       "       [0.07781863],\n",
       "       [0.08088235],\n",
       "       [0.08843954],\n",
       "       [0.09395425],\n",
       "       [0.09599673],\n",
       "       [0.08660131],\n",
       "       [0.09027778],\n",
       "       [0.08517157],\n",
       "       [0.08374183],\n",
       "       [0.07945261],\n",
       "       [0.09109477],\n",
       "       [0.09129902],\n",
       "       [0.08803105],\n",
       "       [0.09681373],\n",
       "       [0.11417484],\n",
       "       [0.10498366],\n",
       "       [0.09987745],\n",
       "       [0.08537582],\n",
       "       [0.08047386],\n",
       "       [0.06862745],\n",
       "       [0.06576797],\n",
       "       [0.06147876],\n",
       "       [0.07169118],\n",
       "       [0.07026144],\n",
       "       [0.0747549 ],\n",
       "       [0.06821895],\n",
       "       [0.0692402 ],\n",
       "       [0.07066993],\n",
       "       [0.06801471],\n",
       "       [0.06678922],\n",
       "       [0.07414216],\n",
       "       [0.07169118],\n",
       "       [0.08639706],\n",
       "       [0.08312908],\n",
       "       [0.06311275],\n",
       "       [0.0629085 ],\n",
       "       [0.05167484],\n",
       "       [0.03186275],\n",
       "       [0.04003268],\n",
       "       [0.03860294],\n",
       "       [0.04105392],\n",
       "       [0.03390523],\n",
       "       [0.03125   ],\n",
       "       [0.02634804],\n",
       "       [0.05861928],\n",
       "       [0.06311275],\n",
       "       [0.0620915 ],\n",
       "       [0.05535131],\n",
       "       [0.08455882],\n",
       "       [0.05514706],\n",
       "       [0.06045752],\n",
       "       [0.0557598 ],\n",
       "       [0.0439134 ],\n",
       "       [0.02920752],\n",
       "       [0.02818627],\n",
       "       [0.04718137],\n",
       "       [0.06045752],\n",
       "       [0.05861928],\n",
       "       [0.06168301],\n",
       "       [0.06699346],\n",
       "       [0.07087418],\n",
       "       [0.0755719 ],\n",
       "       [0.07700163],\n",
       "       [0.10375817],\n",
       "       [0.10314542],\n",
       "       [0.10334967],\n",
       "       [0.10089869],\n",
       "       [0.10437092],\n",
       "       [0.09803922],\n",
       "       [0.09722222],\n",
       "       [0.09783497],\n",
       "       [0.09579248],\n",
       "       [0.09109477],\n",
       "       [0.09313725],\n",
       "       [0.08558007],\n",
       "       [0.09517974],\n",
       "       [0.11172386],\n",
       "       [0.12275327],\n",
       "       [0.12806373],\n",
       "       [0.1313317 ],\n",
       "       [0.12479575],\n",
       "       [0.11090686],\n",
       "       [0.10743464],\n",
       "       [0.11621732],\n",
       "       [0.11683007],\n",
       "       [0.11764706],\n",
       "       [0.12888072],\n",
       "       [0.12847222],\n",
       "       [0.13337418],\n",
       "       [0.14236111],\n",
       "       [0.14093137],\n",
       "       [0.13970588],\n",
       "       [0.13827614],\n",
       "       [0.13541667],\n",
       "       [0.13010621],\n",
       "       [0.12254902],\n",
       "       [0.12479575],\n",
       "       [0.13848039],\n",
       "       [0.14011438],\n",
       "       [0.13888889],\n",
       "       [0.13541667],\n",
       "       [0.14011438],\n",
       "       [0.1380719 ],\n",
       "       [0.13071895],\n",
       "       [0.13071895],\n",
       "       [0.12867647],\n",
       "       [0.11846405],\n",
       "       [0.14644608],\n",
       "       [0.14808007],\n",
       "       [0.15910948],\n",
       "       [0.15992647],\n",
       "       [0.15788399],\n",
       "       [0.16441993],\n",
       "       [0.17892157],\n",
       "       [0.17933007],\n",
       "       [0.19260621],\n",
       "       [0.20812908],\n",
       "       [0.18974673],\n",
       "       [0.18055556],\n",
       "       [0.18239379],\n",
       "       [0.17708333],\n",
       "       [0.17810458],\n",
       "       [0.18055556],\n",
       "       [0.17810458],\n",
       "       [0.17851307],\n",
       "       [0.19607843],\n",
       "       [0.18913399],\n",
       "       [0.18954248],\n",
       "       [0.19403595],\n",
       "       [0.19444444],\n",
       "       [0.20200163],\n",
       "       [0.19771242],\n",
       "       [0.19934641],\n",
       "       [0.19873366],\n",
       "       [0.1997549 ],\n",
       "       [0.2128268 ],\n",
       "       [0.21568627],\n",
       "       [0.20445261],\n",
       "       [0.21772876],\n",
       "       [0.21098856],\n",
       "       [0.21425654],\n",
       "       [0.19750817],\n",
       "       [0.18811275],\n",
       "       [0.17851307],\n",
       "       [0.17381536],\n",
       "       [0.16033497],\n",
       "       [0.16564542],\n",
       "       [0.17116013],\n",
       "       [0.17422386],\n",
       "       [0.18035131],\n",
       "       [0.17401961],\n",
       "       [0.16278595],\n",
       "       [0.16973039],\n",
       "       [0.17810458],\n",
       "       [0.17034314],\n",
       "       [0.16830065],\n",
       "       [0.17279412],\n",
       "       [0.17544935],\n",
       "       [0.18382353],\n",
       "       [0.19138072],\n",
       "       [0.18913399],\n",
       "       [0.19097222],\n",
       "       [0.17238562],\n",
       "       [0.16830065],\n",
       "       [0.1693219 ],\n",
       "       [0.17177288],\n",
       "       [0.16156046],\n",
       "       [0.14971405],\n",
       "       [0.1503268 ],\n",
       "       [0.15196078],\n",
       "       [0.14726307],\n",
       "       [0.14501634],\n",
       "       [0.14603758],\n",
       "       [0.12479575],\n",
       "       [0.13112745],\n",
       "       [0.11397059],\n",
       "       [0.1190768 ],\n",
       "       [0.12377451],\n",
       "       [0.13562092],\n",
       "       [0.12908497],\n",
       "       [0.13459967],\n",
       "       [0.12806373],\n",
       "       [0.13031046],\n",
       "       [0.12724673],\n",
       "       [0.13521242],\n",
       "       [0.14522059],\n",
       "       [0.15257353],\n",
       "       [0.14848856],\n",
       "       [0.14338235],\n",
       "       [0.14562908],\n",
       "       [0.15236928],\n",
       "       [0.15400327],\n",
       "       [0.14971405],\n",
       "       [0.1621732 ],\n",
       "       [0.16319444],\n",
       "       [0.16584967]])"
      ]
     },
     "execution_count": 20,
     "metadata": {},
     "output_type": "execute_result"
    }
   ],
   "source": [
    "test_data"
   ]
  },
  {
   "cell_type": "code",
   "execution_count": 21,
   "id": "41426d39",
   "metadata": {},
   "outputs": [],
   "source": [
    "def new_dataset(dataset, time_step=1):\n",
    "    dataX,dataY=[],[]\n",
    "    for i in range(len(dataset)-time_step-1):\n",
    "        a = dataset[i:(i+time_step),0]\n",
    "        dataX.append(a)\n",
    "        dataY.append(dataset[i+time_step,0])\n",
    "    return np.array(dataX),np.array(dataY)"
   ]
  },
  {
   "cell_type": "code",
   "execution_count": 22,
   "id": "07af0e47",
   "metadata": {},
   "outputs": [],
   "source": [
    "time_step = 100\n",
    "x_train, y_train = new_dataset(train_data,time_step)\n",
    "x_test, y_test = new_dataset(test_data,time_step)"
   ]
  },
  {
   "cell_type": "code",
   "execution_count": 23,
   "id": "216d6f86",
   "metadata": {},
   "outputs": [],
   "source": [
    "x_train = x_train.reshape(x_train.shape[0],x_train.shape[1],1)\n",
    "x_test = x_test.reshape(x_test.shape[0],x_test.shape[1],1)"
   ]
  },
  {
   "cell_type": "markdown",
   "id": "24b9ac69",
   "metadata": {},
   "source": [
    "##  STACKED LSTM MODEL"
   ]
  },
  {
   "cell_type": "code",
   "execution_count": null,
   "id": "87417b4c",
   "metadata": {},
   "outputs": [],
   "source": [
    "Stacked Long Short Term Memory technique refers which each layers corresponds to multiple memory cells."
   ]
  },
  {
   "cell_type": "code",
   "execution_count": 24,
   "id": "54406a43",
   "metadata": {},
   "outputs": [],
   "source": [
    "m = Sequential()"
   ]
  },
  {
   "cell_type": "code",
   "execution_count": 25,
   "id": "77370e19",
   "metadata": {},
   "outputs": [],
   "source": [
    "m.add(LSTM(50, return_sequences = True, input_shape = (100,1)))\n",
    "m.add(LSTM(50, return_sequences = True)) \n",
    "m.add(LSTM(50))\n",
    "m.add(Dense(1))\n",
    "m.compile(loss = 'mean_squared_error', optimizer = 'adam')\n"
   ]
  },
  {
   "cell_type": "code",
   "execution_count": 26,
   "id": "78d790f0",
   "metadata": {},
   "outputs": [
    {
     "name": "stdout",
     "output_type": "stream",
     "text": [
      "Model: \"sequential\"\n",
      "_________________________________________________________________\n",
      "Layer (type)                 Output Shape              Param #   \n",
      "=================================================================\n",
      "lstm (LSTM)                  (None, 100, 50)           10400     \n",
      "_________________________________________________________________\n",
      "lstm_1 (LSTM)                (None, 100, 50)           20200     \n",
      "_________________________________________________________________\n",
      "lstm_2 (LSTM)                (None, 50)                20200     \n",
      "_________________________________________________________________\n",
      "dense (Dense)                (None, 1)                 51        \n",
      "=================================================================\n",
      "Total params: 50,851\n",
      "Trainable params: 50,851\n",
      "Non-trainable params: 0\n",
      "_________________________________________________________________\n"
     ]
    }
   ],
   "source": [
    "m.summary()"
   ]
  },
  {
   "cell_type": "code",
   "execution_count": 27,
   "id": "a2996efe",
   "metadata": {},
   "outputs": [
    {
     "name": "stdout",
     "output_type": "stream",
     "text": [
      "Epoch 1/20\n",
      "24/24 [==============================] - 21s 380ms/step - loss: 0.0225 - val_loss: 0.0052\n",
      "Epoch 2/20\n",
      "24/24 [==============================] - 6s 261ms/step - loss: 0.0023 - val_loss: 5.5001e-04\n",
      "Epoch 3/20\n",
      "24/24 [==============================] - 6s 257ms/step - loss: 0.0014 - val_loss: 8.9668e-04\n",
      "Epoch 4/20\n",
      "24/24 [==============================] - 6s 260ms/step - loss: 0.0013 - val_loss: 6.6477e-04\n",
      "Epoch 5/20\n",
      "24/24 [==============================] - 6s 256ms/step - loss: 0.0012 - val_loss: 6.6269e-04\n",
      "Epoch 6/20\n",
      "24/24 [==============================] - 6s 258ms/step - loss: 0.0012 - val_loss: 5.5422e-04\n",
      "Epoch 7/20\n",
      "24/24 [==============================] - 6s 258ms/step - loss: 0.0011 - val_loss: 7.4135e-04\n",
      "Epoch 8/20\n",
      "24/24 [==============================] - 6s 255ms/step - loss: 0.0011 - val_loss: 6.8830e-04\n",
      "Epoch 9/20\n",
      "24/24 [==============================] - 6s 256ms/step - loss: 9.9425e-04 - val_loss: 4.8955e-04\n",
      "Epoch 10/20\n",
      "24/24 [==============================] - 6s 257ms/step - loss: 9.2963e-04 - val_loss: 5.0632e-04\n",
      "Epoch 11/20\n",
      "24/24 [==============================] - 6s 259ms/step - loss: 9.8097e-04 - val_loss: 4.8538e-04\n",
      "Epoch 12/20\n",
      "24/24 [==============================] - 6s 257ms/step - loss: 8.9478e-04 - val_loss: 4.1222e-04\n",
      "Epoch 13/20\n",
      "24/24 [==============================] - 6s 257ms/step - loss: 9.5236e-04 - val_loss: 3.9642e-04\n",
      "Epoch 14/20\n",
      "24/24 [==============================] - 6s 260ms/step - loss: 8.0341e-04 - val_loss: 4.8754e-04\n",
      "Epoch 15/20\n",
      "24/24 [==============================] - 6s 255ms/step - loss: 7.7976e-04 - val_loss: 4.1482e-04\n",
      "Epoch 16/20\n",
      "24/24 [==============================] - 6s 258ms/step - loss: 8.6953e-04 - val_loss: 4.2182e-04\n",
      "Epoch 17/20\n",
      "24/24 [==============================] - 7s 273ms/step - loss: 7.6282e-04 - val_loss: 5.1550e-04\n",
      "Epoch 18/20\n",
      "24/24 [==============================] - 6s 261ms/step - loss: 7.9237e-04 - val_loss: 3.7619e-04\n",
      "Epoch 19/20\n",
      "24/24 [==============================] - 7s 272ms/step - loss: 7.7366e-04 - val_loss: 5.6390e-04\n",
      "Epoch 20/20\n",
      "24/24 [==============================] - 7s 271ms/step - loss: 7.2046e-04 - val_loss: 3.7274e-04\n"
     ]
    },
    {
     "data": {
      "text/plain": [
       "<tensorflow.python.keras.callbacks.History at 0x16744e14670>"
      ]
     },
     "execution_count": 27,
     "metadata": {},
     "output_type": "execute_result"
    }
   ],
   "source": [
    "m.fit(x_train, y_train, validation_data =(x_test,y_test),epochs = 20,batch_size = 64)"
   ]
  },
  {
   "cell_type": "markdown",
   "id": "55d9b8b5",
   "metadata": {},
   "source": [
    "## DATA PLOTTING"
   ]
  },
  {
   "cell_type": "code",
   "execution_count": 31,
   "id": "75443794",
   "metadata": {},
   "outputs": [
    {
     "data": {
      "text/plain": [
       "[<matplotlib.lines.Line2D at 0x16757e64dc0>]"
      ]
     },
     "execution_count": 31,
     "metadata": {},
     "output_type": "execute_result"
    },
    {
     "data": {
      "image/png": "[encoded data removed]",
      "text/plain": [
       "<Figure size 432x288 with 1 Axes>"
      ]
     },
     "metadata": {
      "needs_background": "light"
     },
     "output_type": "display_data"
    }
   ],
   "source": [
    "l = 100\n",
    "train_predict=[]\n",
    "trainPredictPlot = np.empty_like(df)\n",
    "trainPredictPlot[:,:]=np.nan\n",
    "train_predict=trainPredictPlot[l:len(train_predict)+l,:] \n",
    "testPredictPlot =np.empty_like(df)\n",
    "testPredictPlot[:,:]=np.nan\n",
    "test_predict=testPredictPlot[l:len(train_predict)+(l*2)+1:len(df)-1,:] \n",
    "plt.plot(scaler.inverse_transform(df))\n"
   ]
  },
  {
   "cell_type": "code",
   "execution_count": 32,
   "id": "75f9d410",
   "metadata": {},
   "outputs": [
    {
     "data": {
      "text/plain": [
       "407"
      ]
     },
     "execution_count": 32,
     "metadata": {},
     "output_type": "execute_result"
    }
   ],
   "source": [
    "len(test_data)"
   ]
  },
  {
   "cell_type": "code",
   "execution_count": 33,
   "id": "0004ed6d",
   "metadata": {},
   "outputs": [
    {
     "data": {
      "text/plain": [
       "(66, 1)"
      ]
     },
     "execution_count": 33,
     "metadata": {},
     "output_type": "execute_result"
    }
   ],
   "source": [
    "x_input=test_data[341:].reshape(-1,1)\n",
    "x_input.shape"
   ]
  },
  {
   "cell_type": "code",
   "execution_count": 34,
   "id": "c01642be",
   "metadata": {},
   "outputs": [],
   "source": [
    "temp_input=list(x_input)\n",
    "temp_input=temp_input[0].tolist()"
   ]
  },
  {
   "cell_type": "code",
   "execution_count": 35,
   "id": "ed06439d",
   "metadata": {},
   "outputs": [
    {
     "data": {
      "text/plain": [
       "[0.20200163398692816]"
      ]
     },
     "execution_count": 35,
     "metadata": {},
     "output_type": "execute_result"
    }
   ],
   "source": [
    "temp_input"
   ]
  },
  {
   "cell_type": "code",
   "execution_count": 36,
   "id": "bb4eb816",
   "metadata": {},
   "outputs": [],
   "source": [
    "train_predict = m.predict(x_train)\n",
    "test_predict = m.predict(x_test)"
   ]
  },
  {
   "cell_type": "code",
   "execution_count": 37,
   "id": "5fa04822",
   "metadata": {},
   "outputs": [],
   "source": [
    "train_predict = scaler.inverse_transform(train_predict)"
   ]
  },
  {
   "cell_type": "code",
   "execution_count": 38,
   "id": "77ef265b",
   "metadata": {},
   "outputs": [],
   "source": [
    "test_predict = scaler.inverse_transform(test_predict)"
   ]
  },
  {
   "cell_type": "code",
   "execution_count": 40,
   "id": "d81ae5ae",
   "metadata": {},
   "outputs": [
    {
     "name": "stdout",
     "output_type": "stream",
     "text": [
      "Train MSE: 158.3162317369107\n"
     ]
    }
   ],
   "source": [
    "print(\"Train MSE: \"+str(math.sqrt(mean_squared_error(y_train,train_predict))))\n"
   ]
  },
  {
   "cell_type": "code",
   "execution_count": 41,
   "id": "4994e96f",
   "metadata": {},
   "outputs": [
    {
     "data": {
      "image/png": "[encoded data removed]",
      "text/plain": [
       "<Figure size 432x288 with 1 Axes>"
      ]
     },
     "metadata": {
      "needs_background": "light"
     },
     "output_type": "display_data"
    }
   ],
   "source": [
    "plt.plot(df,color='red', label='prediction')\n",
    "plt.plot(y_test,color='yellow',label='y_test')\n",
    "plt.legend(loc='upper right')\n",
    "plt.show()"
   ]
  },
  {
   "cell_type": "code",
   "execution_count": null,
   "id": "759eee8d",
   "metadata": {},
   "outputs": [],
   "source": []
  }
 ],
 "metadata": {
  "kernelspec": {
   "display_name": "Python 3 (ipykernel)",
   "language": "python",
   "name": "python3"
  },
  "language_info": {
   "codemirror_mode": {
    "name": "ipython",
    "version": 3
   },
   "file_extension": ".py",
   "mimetype": "text/x-python",
   "name": "python",
   "nbconvert_exporter": "python",
   "pygments_lexer": "ipython3",
   "version": "3.9.7"
  }
 },
 "nbformat": 4,
 "nbformat_minor": 5
}
